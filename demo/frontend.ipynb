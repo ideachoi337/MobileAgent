{
 "cells": [
  {
   "cell_type": "code",
   "execution_count": 1,
   "metadata": {},
   "outputs": [],
   "source": [
    "import requests\n",
    "\n",
    "# change to server address\n",
    "server_url = \"http://127.0.0.1:5678/process\""
   ]
  },
  {
   "cell_type": "code",
   "execution_count": 2,
   "metadata": {},
   "outputs": [],
   "source": [
    "import re \n",
    "def parse(text):\n",
    "    # Return (action_name, xy_touch, xy_lift, type_text)\n",
    "    action = None\n",
    "    xy_touch = None\n",
    "    xy_lift = None\n",
    "    type_text = None\n",
    "    bbox_p = re.compile('\\[\\[([^]]+)\\]\\]')\n",
    "    try:\n",
    "        if len(text) >= 4 and text[:4] == 'type':\n",
    "            action = 'type'\n",
    "            type_text = text[4:].strip()\n",
    "        elif len(text) >= 5 and text[:5] == 'click':\n",
    "            action = 'click'\n",
    "            xy_touch = bbox_p.findall(text)[-1]\n",
    "            xy_touch = xy_touch.replace(' ', '').split(',')\n",
    "            xy_touch = [int(d) for d in xy_touch]\n",
    "        elif len(text) >= 10 and text[:10] == 'dual_point':\n",
    "            action = 'dual_point'\n",
    "            xy_touch, xy_lift = bbox_p.findall(text)[-2:]\n",
    "            xy_touch = xy_touch.replace(' ', '').split(',')\n",
    "            xy_lift = xy_lift.replace(' ', '').split(',')\n",
    "            xy_touch = [int(d) for d in xy_touch]\n",
    "            xy_lift = [int(d) for d in xy_lift]\n",
    "        elif len(text) >= 10 and text[:10] == 'press_back':\n",
    "            action = 'press_back'\n",
    "        elif len(text) >= 10 and text[:10] == 'press_home':\n",
    "            action = 'press_home'\n",
    "        elif len(text) >= 11 and text[:11] == 'press_enter':\n",
    "            action = 'press_enter'\n",
    "        elif len(text) >= 13 and text[:13] == 'task_complete':\n",
    "            action = 'task_complete'\n",
    "        elif len(text) >= 15 and text[:15] == 'task_impossible':\n",
    "            action = 'task_impossible'\n",
    "        return (action, xy_touch, xy_lift, type_text)\n",
    "    except:\n",
    "        return (None, None, None, None)\n"
   ]
  },
  {
   "cell_type": "code",
   "execution_count": 4,
   "metadata": {},
   "outputs": [],
   "source": [
    "from ppadb.client import Client as AdbClient\n",
    "\n",
    "class Controller:\n",
    "    def __init__(self):\n",
    "        self.client = AdbClient(host=\"127.0.0.1\", port=5037)\n",
    "        self.device = self.client.devices()[0]\n",
    "    def control_device(self, action):\n",
    "        w, h = 1080, 2400\n",
    "        if action[0] is None:\n",
    "            return\n",
    "        if action[0] == 'type':\n",
    "            self.device.shell(f\"input text '{action[3]}'\")\n",
    "        elif action[0] == 'click':\n",
    "            self.device.shell(f\"input tap {int((action[1][0]+action[1][2])/2*w/1000)} {int((action[1][1]+action[1][3])/2*h/1000)}\")\n",
    "        elif action[0] == 'dual_point':\n",
    "            if action[1] == action[2]:\n",
    "                self.device.shell(f\"input tap {int((action[1][0]+action[1][2])/2*w/1000)} {int((action[1][1]+action[1][3])/2*h/1000)}\")\n",
    "            self.device.shell(f\"input swipe {int((action[1][0]+action[1][2])/2*w/1000)} {int((action[1][1]+action[1][3])/2*h/1000)} {int((action[2][0]+action[2][2])/2*w/1000)} {int((action[2][1]+action[2][3])/2*h/1000)} 250\")\n",
    "        elif action[0] == 'press_back':\n",
    "            self.device.shell(f\"input keyevent KEYCODE_BACK\")\n",
    "        elif action[0] == 'press_home':\n",
    "            self.device.shell(f\"input keyevent KEYCODE_HOME\")\n",
    "        elif action[0] == 'press_enter':\n",
    "            self.device.shell(f\"input keyevent KEYCODE_ENTER\")\n",
    "        else:\n",
    "            return False\n",
    "        return True\n",
    "    def get_image(self, path):\n",
    "        result = self.device.screencap()\n",
    "        with open(path, 'wb') as fp:\n",
    "            fp.write(result)"
   ]
  },
  {
   "cell_type": "code",
   "execution_count": 5,
   "metadata": {},
   "outputs": [],
   "source": [
    "import matplotlib.pyplot as plt\n",
    "from PIL import Image\n",
    "def visualize(image, result):\n",
    "    img = Image.open(image)\n",
    "    w, h = img.size\n",
    "    action_name, xy_touch, xy_lift, type_text = result\n",
    "    plt.imshow(img)\n",
    "    plt.title(f'{action_name}')\n",
    "    if xy_touch is not None:\n",
    "        touch = ((xy_touch[0]+xy_touch[2])/2000*w, (xy_touch[1]+xy_touch[3])/2000*h)\n",
    "        plt.plot([touch[0]], [touch[1]], 'ro')\n",
    "    if xy_lift is not None:\n",
    "        lift = ((xy_lift[0]+xy_lift[2])/2000*w, (xy_lift[1]+xy_lift[3])/2000*h)\n",
    "        plt.plot([touch[0], lift[0]], [touch[1], lift[1]], '--b')\n",
    "    if type_text is not None:\n",
    "        plt.title(f'Type: {type_text}')\n",
    "    plt.axis('off')\n",
    "    plt.show()"
   ]
  },
  {
   "cell_type": "code",
   "execution_count": 6,
   "metadata": {},
   "outputs": [
    {
     "name": "stdout",
     "output_type": "stream",
     "text": [
      "Instruction: d\n",
      "('press_home', None, None, None)\n"
     ]
    },
    {
     "ename": "KeyboardInterrupt",
     "evalue": "",
     "output_type": "error",
     "traceback": [
      "\u001b[0;31m---------------------------------------------------------------------------\u001b[0m",
      "\u001b[0;31mKeyboardInterrupt\u001b[0m                         Traceback (most recent call last)",
      "Cell \u001b[0;32mIn[6], line 28\u001b[0m\n\u001b[1;32m     26\u001b[0m \u001b[38;5;28;01mif\u001b[39;00m \u001b[38;5;129;01mnot\u001b[39;00m res:\n\u001b[1;32m     27\u001b[0m     \u001b[38;5;28;01mbreak\u001b[39;00m\n\u001b[0;32m---> 28\u001b[0m \u001b[43mtime\u001b[49m\u001b[38;5;241;43m.\u001b[39;49m\u001b[43msleep\u001b[49m\u001b[43m(\u001b[49m\u001b[38;5;241;43m5\u001b[39;49m\u001b[43m)\u001b[49m\n",
      "\u001b[0;31mKeyboardInterrupt\u001b[0m: "
     ]
    }
   ],
   "source": [
    "import time\n",
    "cnt = 0\n",
    "inst = input()\n",
    "controller = Controller()\n",
    "\n",
    "while cnt < 20:\n",
    "    cnt += 1\n",
    "    print('Instruction:', inst)\n",
    "    text_data = f\"<image>\\nPlease provide the bounding box coordinate of the region for this instruction: <ref>{inst}</ref>\"\n",
    "\n",
    "    image_path = \"tmp.png\"\n",
    "    controller.get_image(image_path)\n",
    "\n",
    "    with open(image_path, 'rb') as image_file:\n",
    "        files = {\n",
    "            'text': (None, text_data),  \n",
    "            'image': ('image.jpg', image_file, 'image/jpeg')  \n",
    "        }\n",
    "\n",
    "        response = requests.post(server_url, files=files)\n",
    "     \n",
    "    result = parse(response.json()['response'])\n",
    "    #visualize(image_path, result)\n",
    "    print(result)\n",
    "    res = controller.control_device(result)\n",
    "    if not res:\n",
    "        break\n",
    "    time.sleep(5)"
   ]
  },
  {
   "cell_type": "code",
   "execution_count": null,
   "metadata": {},
   "outputs": [],
   "source": []
  }
 ],
 "metadata": {
  "kernelspec": {
   "display_name": "cv",
   "language": "python",
   "name": "python3"
  },
  "language_info": {
   "codemirror_mode": {
    "name": "ipython",
    "version": 3
   },
   "file_extension": ".py",
   "mimetype": "text/x-python",
   "name": "python",
   "nbconvert_exporter": "python",
   "pygments_lexer": "ipython3",
   "version": "3.10.12"
  }
 },
 "nbformat": 4,
 "nbformat_minor": 2
}
